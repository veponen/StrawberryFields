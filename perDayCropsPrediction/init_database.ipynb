{
 "cells": [
  {
   "cell_type": "code",
   "execution_count": 2,
   "metadata": {},
   "outputs": [],
   "source": [
    "import sqlite3 as sql"
   ]
  },
  {
   "cell_type": "code",
   "execution_count": 3,
   "metadata": {},
   "outputs": [],
   "source": [
    "Cu_Re=sql.connect('CustomerReservation.db')\n",
    ""
   ]
  },
  {
   "cell_type": "code",
   "execution_count": 4,
   "metadata": {},
   "outputs": [
    {
     "output_type": "execute_result",
     "data": {
      "text/plain": "<sqlite3.Cursor at 0x1c4215cfc70>"
     },
     "metadata": {},
     "execution_count": 4
    }
   ],
   "source": [
    "\n",
    "    \n",
    "Cu_Re.execute('''CREATE TABLE \"Customers\" (\n",
    "\t\"customers_id\"\tINTEGER NOT NULL PRIMARY KEY AUTOINCREMENT,\n",
    "\t\"name\"\tTEXT DEFAULT 'No Name',\n",
    "\t\"phone\"\tTEXT,\n",
    "\t\"birthday\"\tDATE\n",
    ");''')"
   ]
  },
  {
   "cell_type": "code",
   "execution_count": 5,
   "metadata": {},
   "outputs": [
    {
     "output_type": "execute_result",
     "data": {
      "text/plain": "<sqlite3.Cursor at 0x1c4215cfdc0>"
     },
     "metadata": {},
     "execution_count": 5
    }
   ],
   "source": [
    "Cu_Re.execute('''CREATE TABLE \"Strawberrytype\" (\n",
    "\t\"type_id\"\tINTEGER NOT NULL PRIMARY KEY AUTOINCREMENT UNIQUE,\n",
    "\t\"name_of_type\"\tTEXT NOT NULL);''')"
   ]
  },
  {
   "cell_type": "code",
   "execution_count": 6,
   "metadata": {},
   "outputs": [
    {
     "output_type": "execute_result",
     "data": {
      "text/plain": "<sqlite3.Cursor at 0x1c4215e6260>"
     },
     "metadata": {},
     "execution_count": 6
    }
   ],
   "source": [
    "Cu_Re.execute('''CREATE TABLE \"Reservation\" (\n",
    "\t\"reservation_id\"\tINTEGER NOT NULL PRIMARY KEY AUTOINCREMENT UNIQUE,\n",
    "\t\"date\"\tDATE NOT NULL,\n",
    "\t\"time\"\tTIME NOT NULL,\n",
    "\t\"customers_id\"\tINTEGER NOT NULL DEFAULT 'not book yet',\n",
    "\t\"number_of_buckets\"\tINTEGER NOT NULL DEFAULT 'not book yet',\n",
    "\t\"type_of_strawberry\" TEXT NOT NULL DEFAULT 'not book yet',\n",
    "    FOREIGN KEY (customers_id) REFERENCES Customers(customers_id)\n",
    "    FOREIGN KEY (type_of_strawberry) REFERENCES Strawberrytype(type_id)\n",
    "\n",
    "    );''')"
   ]
  },
  {
   "cell_type": "code",
   "execution_count": 7,
   "metadata": {},
   "outputs": [
    {
     "output_type": "execute_result",
     "data": {
      "text/plain": "<sqlite3.Cursor at 0x1c4215e6340>"
     },
     "metadata": {},
     "execution_count": 7
    }
   ],
   "source": [
    "Cu_Re.execute('''INSERT into Customers (name,phone,birthday)\n",
    "VALUES \n",
    "('Hochine', '0918273645','1995-03-01'),\n",
    "('Hien Bui', '0449101288','2000-05-23'),\n",
    "('Niko','0332312457','1999-04-21');''')"
   ]
  },
  {
   "cell_type": "code",
   "execution_count": 8,
   "metadata": {},
   "outputs": [
    {
     "output_type": "execute_result",
     "data": {
      "text/plain": "<sqlite3.Cursor at 0x1c4215e6500>"
     },
     "metadata": {},
     "execution_count": 8
    }
   ],
   "source": [
    "Cu_Re.execute('''\n",
    "Insert into Strawberrytype (name_of_type)\n",
    "values \n",
    "('Quinalt'),\n",
    "('Jewel'),\n",
    "('Northeaster');''')"
   ]
  },
  {
   "cell_type": "code",
   "execution_count": 9,
   "metadata": {},
   "outputs": [
    {
     "output_type": "execute_result",
     "data": {
      "text/plain": "<sqlite3.Cursor at 0x1c4215cfea0>"
     },
     "metadata": {},
     "execution_count": 9
    }
   ],
   "source": [
    "Cu_Re.execute('''\n",
    "Insert into Reservation (date, time, customers_id,number_of_buckets,type_of_strawberry)\n",
    "values \n",
    "('2020-03-18','09:00:00',1,4,1),\n",
    "('2020-03-18','11:00:00',1,3,2),\n",
    "('2020-03-19','09:00:00',2,3,2);''')"
   ]
  },
  {
   "cell_type": "code",
   "execution_count": 1,
   "metadata": {},
   "outputs": [],
   "source": [
    "%%capture\n",
    "%load_ext sql\n",
    "%sql sqlite:///CustomerReservation.db"
   ]
  },
  {
   "cell_type": "code",
   "execution_count": 2,
   "metadata": {},
   "outputs": [
    {
     "output_type": "stream",
     "name": "stdout",
     "text": "* sqlite:///CustomerReservation.db\nDone.\n"
    },
    {
     "output_type": "execute_result",
     "data": {
      "text/plain": "[(1, 'Hochine', '0918273645', '1995-03-01'),\n (2, 'Hien Bui', '0449101288', '2000-05-23'),\n (3, 'Niko', '0332312457', '1999-04-21')]",
      "text/html": "<table>\n    <tr>\n        <th>customers_id</th>\n        <th>name</th>\n        <th>phone</th>\n        <th>birthday</th>\n    </tr>\n    <tr>\n        <td>1</td>\n        <td>Hochine</td>\n        <td>0918273645</td>\n        <td>1995-03-01</td>\n    </tr>\n    <tr>\n        <td>2</td>\n        <td>Hien Bui</td>\n        <td>0449101288</td>\n        <td>2000-05-23</td>\n    </tr>\n    <tr>\n        <td>3</td>\n        <td>Niko</td>\n        <td>0332312457</td>\n        <td>1999-04-21</td>\n    </tr>\n</table>"
     },
     "metadata": {},
     "execution_count": 2
    }
   ],
   "source": [
    "%%sql\n",
    "select *\n",
    "from Customers"
   ]
  },
  {
   "cell_type": "code",
   "execution_count": 3,
   "metadata": {},
   "outputs": [
    {
     "output_type": "stream",
     "name": "stdout",
     "text": "* sqlite:///CustomerReservation.db\nDone.\n"
    },
    {
     "output_type": "execute_result",
     "data": {
      "text/plain": "[(1, '2020-03-18', '09:00:00', 1, 4, '1'),\n (2, '2020-03-18', '11:00:00', 1, 3, '2'),\n (3, '2020-03-19', '09:00:00', 2, 3, '2')]",
      "text/html": "<table>\n    <tr>\n        <th>reservation_id</th>\n        <th>date</th>\n        <th>time</th>\n        <th>customers_id</th>\n        <th>number_of_buckets</th>\n        <th>type_of_strawberry</th>\n    </tr>\n    <tr>\n        <td>1</td>\n        <td>2020-03-18</td>\n        <td>09:00:00</td>\n        <td>1</td>\n        <td>4</td>\n        <td>1</td>\n    </tr>\n    <tr>\n        <td>2</td>\n        <td>2020-03-18</td>\n        <td>11:00:00</td>\n        <td>1</td>\n        <td>3</td>\n        <td>2</td>\n    </tr>\n    <tr>\n        <td>3</td>\n        <td>2020-03-19</td>\n        <td>09:00:00</td>\n        <td>2</td>\n        <td>3</td>\n        <td>2</td>\n    </tr>\n</table>"
     },
     "metadata": {},
     "execution_count": 3
    }
   ],
   "source": [
    "%%sql\n",
    "select *\n",
    "from Reservation"
   ]
  },
  {
   "cell_type": "code",
   "execution_count": 4,
   "metadata": {},
   "outputs": [
    {
     "output_type": "stream",
     "name": "stdout",
     "text": "* sqlite:///CustomerReservation.db\nDone.\n"
    },
    {
     "output_type": "execute_result",
     "data": {
      "text/plain": "[(1, 'Quinalt'), (2, 'Jewel'), (3, 'Northeaster')]",
      "text/html": "<table>\n    <tr>\n        <th>type_id</th>\n        <th>name_of_type</th>\n    </tr>\n    <tr>\n        <td>1</td>\n        <td>Quinalt</td>\n    </tr>\n    <tr>\n        <td>2</td>\n        <td>Jewel</td>\n    </tr>\n    <tr>\n        <td>3</td>\n        <td>Northeaster</td>\n    </tr>\n</table>"
     },
     "metadata": {},
     "execution_count": 4
    }
   ],
   "source": [
    "%%sql\n",
    "select *\n",
    "from Strawberrytype"
   ]
  },
  {
   "cell_type": "code",
   "execution_count": null,
   "metadata": {},
   "outputs": [],
   "source": []
  }
 ],
 "metadata": {
  "file_extension": ".py",
  "kernelspec": {
   "display_name": "Python 3.7.4 64-bit ('base': conda)",
   "language": "python",
   "name": "python37464bitbasecondaa1c3086466574cd48df981435f925a65"
  },
  "language_info": {
   "codemirror_mode": {
    "name": "ipython",
    "version": 3
   },
   "file_extension": ".py",
   "mimetype": "text/x-python",
   "name": "python",
   "nbconvert_exporter": "python",
   "pygments_lexer": "ipython3",
   "version": "3.7.4-final"
  },
  "mimetype": "text/x-python",
  "name": "python",
  "npconvert_exporter": "python",
  "pygments_lexer": "ipython3",
  "version": 3
 },
 "nbformat": 4,
 "nbformat_minor": 2
}