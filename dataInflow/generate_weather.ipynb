{
 "nbformat": 4,
 "nbformat_minor": 2,
 "metadata": {
  "language_info": {
   "name": "python",
   "codemirror_mode": {
    "name": "ipython",
    "version": 3
   },
   "version": "3.7.4-final"
  },
  "orig_nbformat": 2,
  "file_extension": ".py",
  "mimetype": "text/x-python",
  "name": "python",
  "npconvert_exporter": "python",
  "pygments_lexer": "ipython3",
  "version": 3,
  "kernelspec": {
   "name": "python37464bitbasecondaa1c3086466574cd48df981435f925a65",
   "display_name": "Python 3.7.4 64-bit ('base': conda)"
  }
 },
 "cells": [
  {
   "cell_type": "code",
   "execution_count": 2,
   "metadata": {},
   "outputs": [
    {
     "output_type": "execute_result",
     "data": {
      "text/plain": "[(57, '2020-04-16', '2020-04-16 10:00:00', -0.37, 1.23, 0, 0),\n (58, '2020-04-16', '2020-04-17 10:00:00', -1.52, 1.22, 0.62, 0),\n (59, '2020-04-16', '2020-04-18 10:00:00', -0.53, 2.39, 1.77, 0),\n (60, '2020-04-16', '2020-04-19 10:00:00', -1.87, 3.27, 2.25, 0),\n (61, '2020-04-16', '2020-04-20 10:00:00', 1.24, 6.03, 4.36, 0),\n (62, '2020-04-16', '2020-04-21 10:00:00', 1.33, 8.73, 7.13, 0),\n (63, '2020-04-16', '2020-04-22 10:00:00', 2.76, 7.71, 7.41, 0),\n (64, '2020-04-16', '2020-04-23 10:00:00', 1.6, 7.29, 6.73, 0)]"
     },
     "metadata": {},
     "execution_count": 2
    }
   ],
   "source": [
    "import datetime as dt\n",
    "import json as js\n",
    "import urllib.request\n",
    "import sqlite3 as sql\n",
    "url='https://api.openweathermap.org/data/2.5/onecall?lat=64.286670&lon=27.622125&units=metric&appid=e25afeccd6e22a2e996bed2809e43452'\n",
    "\n",
    "resp=urllib.request.urlopen(url)\n",
    "jsfile_Tornio=js.load(resp)\n",
    "\n",
    "def unix_to_UTC_time(time_survey):\n",
    "    return dt.datetime.utcfromtimestamp(time_survey).strftime('%Y-%m-%d %H:%M:%S')\n",
    "\n",
    "date_weather_info=[]\n",
    "for each_day in jsfile_Tornio['daily']:\n",
    "    date_predicted=unix_to_UTC_time(each_day['dt'])\n",
    "    temp_max=each_day['temp']['max']\n",
    "    temp_min=each_day['temp']['min']\n",
    "    temp_avg=each_day['temp']['day']\n",
    "    rain_info=each_day.get('rain',0) # if it was no rain on the surveyed day, then return value 0\n",
    "\n",
    "    date_weather_info.append({\n",
    "        'date_predicted':date_predicted,\n",
    "        'temp_max':temp_max,\n",
    "        'temp_min':temp_min,\n",
    "        'temp_avg':temp_avg,\n",
    "        'rain_info (mm)': rain_info\n",
    "    })\n",
    "\n",
    "\n",
    "try:\n",
    "    con=sql.connect('WeatherDataTest.db')\n",
    "    ori_table=con.execute('select * from WeatherPrediction').fetchall()\n",
    "    #if there is no table named 'WeatherPrediction' in 'WeatherDataTest.db', then jump to except statement\n",
    "    if len(ori_table) != 0:\n",
    "        k=ori_table[-1][0]+1\n",
    "    else:\n",
    "        k=1\n",
    "except:\n",
    "    k=1\n",
    "\n",
    "data_weather=[]\n",
    "today=dt.datetime.now().strftime('%Y-%m-%d')\n",
    "for i in date_weather_info:\n",
    "    data_tuple=(k,today,i['date_predicted'],i['temp_min'],i['temp_max'],i['temp_avg'],i['rain_info (mm)'])\n",
    "    data_weather.append(data_tuple)\n",
    "    k+=1\n",
    "con.commit()\n",
    "con.close()\n",
    "data_weather"
   ]
  },
  {
   "cell_type": "code",
   "execution_count": 3,
   "metadata": {},
   "outputs": [],
   "source": [
    "import sqlite3 as sql\n",
    "Wea_pred=sql.connect('WeatherDataTest.db')\n",
    "try:   \n",
    "    Wea_pred.execute('''\n",
    "    CREATE TABLE \"WeatherPrediction\" (\n",
    "        \"prediction_id\"\tINTEGER NOT NULL PRIMARY KEY AUTOINCREMENT UNIQUE,\n",
    "        \"predictionDate\"\tDATE NOT NULL,\n",
    "        \"date\"\tDATE NOT NULL,\n",
    "        \"minTemp\"\tINTEGER NOT NULL DEFAULT 0,\n",
    "        \"maxTemp\"\tINTEGER NOT NULL DEFAULT 0,\n",
    "        \"avgTemp\"\tINTEGER NOT NULL DEFAULT 0,\n",
    "        \"rain\"\tINTEGER NOT NULL DEFAULT 0\n",
    "    );\n",
    "    ''')\n",
    "except:\n",
    "    pass\n",
    "    \n",
    "try:\n",
    "    Wea_pred.executemany('''insert into WeatherPrediction (prediction_id, predictionDate, date, minTemp, maxTemp, avgTemp, rain)        values (?,?, ?, ?, ?, ?, ?)''',data_weather)\n",
    "except:\n",
    "    pass\n",
    "Wea_pred.commit()\n",
    "Wea_pred.close()\n",
    ""
   ]
  },
  {
   "cell_type": "code",
   "execution_count": 4,
   "metadata": {},
   "outputs": [],
   "source": [
    "%%capture\n",
    "%load_ext sql\n",
    "%sql sqlite:///WeatherDataTest.db"
   ]
  },
  {
   "cell_type": "code",
   "execution_count": 5,
   "metadata": {},
   "outputs": [
    {
     "output_type": "stream",
     "name": "stdout",
     "text": "* sqlite:///WeatherDataTest.db\nDone.\n"
    },
    {
     "output_type": "execute_result",
     "data": {
      "text/plain": "[(1, '2020-04-09', '2020-04-09 10:00:00', -4.05, 2.62, 2.62, 0),\n (2, '2020-04-09', '2020-04-10 10:00:00', -5.62, -0.78, -2.32, 0),\n (3, '2020-04-09', '2020-04-11 10:00:00', -4.41, 0.64, -0.43, 0),\n (4, '2020-04-09', '2020-04-12 10:00:00', -4.06, 0.29, -0.98, 0),\n (5, '2020-04-09', '2020-04-13 10:00:00', -4.73, -0.92, -0.92, 0),\n (6, '2020-04-09', '2020-04-14 10:00:00', -7.14, -1.27, -3.53, 0),\n (7, '2020-04-09', '2020-04-15 10:00:00', -1.86, 2.73, 2.21, 0.92),\n (8, '2020-04-09', '2020-04-16 10:00:00', -3.35, 4.45, 2.73, 0.3),\n (9, '2020-04-10', '2020-04-10 10:00:00', -3.29, 0.09, -0.74, 0),\n (10, '2020-04-10', '2020-04-11 10:00:00', -4.58, 0.76, -0.16, 0),\n (11, '2020-04-10', '2020-04-12 10:00:00', -2.9, 1.56, 1.45, 2.71),\n (12, '2020-04-10', '2020-04-13 10:00:00', -3.06, -0.3, -0.56, 0),\n (13, '2020-04-10', '2020-04-14 10:00:00', -3.72, -0.44, -1.32, 0),\n (14, '2020-04-10', '2020-04-15 10:00:00', -3.69, 1.88, 1.47, 0),\n (15, '2020-04-10', '2020-04-16 10:00:00', -2.33, 4.8, 4.02, 0),\n (16, '2020-04-10', '2020-04-17 10:00:00', -0.23, 4.82, 3.76, 0),\n (17, '2020-04-11', '2020-04-11 10:00:00', -3.98, 1.31, 1.31, 0),\n (18, '2020-04-11', '2020-04-12 10:00:00', -3.29, 2.24, 1.43, 1.72),\n (19, '2020-04-11', '2020-04-13 10:00:00', -2.15, 1.61, 0.44, 0),\n (20, '2020-04-11', '2020-04-14 10:00:00', -2.62, 1.94, 1.71, 0),\n (21, '2020-04-11', '2020-04-15 10:00:00', -1.22, 1.9, 0.82, 0),\n (22, '2020-04-11', '2020-04-16 10:00:00', -1.68, 5.28, 3.59, 0),\n (23, '2020-04-11', '2020-04-17 10:00:00', 1.45, 5.35, 4.21, 2.06),\n (24, '2020-04-11', '2020-04-18 10:00:00', 0.65, 8.56, 6.97, 0.29),\n (25, '2020-04-12', '2020-04-12 10:00:00', 0, 3.73, 0, 6.64),\n (26, '2020-04-12', '2020-04-13 10:00:00', -1.77, 2.22, 1.09, 0),\n (27, '2020-04-12', '2020-04-14 10:00:00', -2.31, 2.71, 1.8, 0),\n (28, '2020-04-12', '2020-04-15 10:00:00', -1.93, 4, 3.17, 0),\n (29, '2020-04-12', '2020-04-16 10:00:00', -1.76, 3.55, 3.55, 0),\n (30, '2020-04-12', '2020-04-17 10:00:00', -2.24, 1.24, 1.24, 0),\n (31, '2020-04-12', '2020-04-18 10:00:00', -0.36, 3.61, 2.25, 0),\n (32, '2020-04-12', '2020-04-19 10:00:00', 0.63, 3.34, 2.97, 0),\n (33, '2020-04-13', '2020-04-13 10:00:00', -1.76, 1.98, 0.6, 0),\n (34, '2020-04-13', '2020-04-14 10:00:00', -2.53, 2.42, 1, 0),\n (35, '2020-04-13', '2020-04-15 10:00:00', -1.64, 3.53, 2.58, 0),\n (36, '2020-04-13', '2020-04-16 10:00:00', -0.32, 2.42, 2.28, 0.22),\n (37, '2020-04-13', '2020-04-17 10:00:00', 0.52, 3.68, 3.47, 2.98),\n (38, '2020-04-13', '2020-04-18 10:00:00', 0.33, 4.93, 3.4, 0),\n (39, '2020-04-13', '2020-04-19 10:00:00', -0.01, 3.44, 2.73, 0),\n (40, '2020-04-13', '2020-04-20 10:00:00', -1.25, 5.2, 2.31, 0),\n (41, '2020-04-14', '2020-04-14 10:00:00', -4, 3.13, 2.03, 0),\n (42, '2020-04-14', '2020-04-15 10:00:00', -2.28, 3.68, 3.02, 0),\n (43, '2020-04-14', '2020-04-16 10:00:00', -1.84, 3.62, 2.86, 0),\n (44, '2020-04-14', '2020-04-17 10:00:00', -1.19, 1.01, 0.46, 0),\n (45, '2020-04-14', '2020-04-18 10:00:00', -0.31, 2, 1.12, 0),\n (46, '2020-04-14', '2020-04-19 10:00:00', -2.36, 2.06, 0.89, 0),\n (47, '2020-04-14', '2020-04-20 10:00:00', -1.3, 4.64, 3.22, 0),\n (48, '2020-04-14', '2020-04-21 10:00:00', -1.73, 2.91, 2.74, 0),\n (49, '2020-04-15', '2020-04-15 10:00:00', -2, 2.99, 1.48, 0),\n (50, '2020-04-15', '2020-04-16 10:00:00', -2.48, 3.5, 2.67, 0),\n (51, '2020-04-15', '2020-04-17 10:00:00', -0.66, 1.57, 1.23, 0),\n (52, '2020-04-15', '2020-04-18 10:00:00', -0.63, 2.3, 0.6, 0),\n (53, '2020-04-15', '2020-04-19 10:00:00', -1.25, 1.94, 1.14, 0),\n (54, '2020-04-15', '2020-04-20 10:00:00', -0.9, 3.92, 2.14, 0),\n (55, '2020-04-15', '2020-04-21 10:00:00', -0.87, 5.38, 3.6, 0),\n (56, '2020-04-15', '2020-04-22 10:00:00', 0.81, 0.81, 0.81, 0),\n (57, '2020-04-16', '2020-04-16 10:00:00', -0.37, 1.23, 0, 0),\n (58, '2020-04-16', '2020-04-17 10:00:00', -1.52, 1.22, 0.62, 0),\n (59, '2020-04-16', '2020-04-18 10:00:00', -0.53, 2.39, 1.77, 0),\n (60, '2020-04-16', '2020-04-19 10:00:00', -1.87, 3.27, 2.25, 0),\n (61, '2020-04-16', '2020-04-20 10:00:00', 1.24, 6.03, 4.36, 0),\n (62, '2020-04-16', '2020-04-21 10:00:00', 1.33, 8.73, 7.13, 0),\n (63, '2020-04-16', '2020-04-22 10:00:00', 2.76, 7.71, 7.41, 0),\n (64, '2020-04-16', '2020-04-23 10:00:00', 1.6, 7.29, 6.73, 0)]",
      "text/html": "<table>\n    <tr>\n        <th>prediction_id</th>\n        <th>predictionDate</th>\n        <th>date</th>\n        <th>minTemp</th>\n        <th>maxTemp</th>\n        <th>avgTemp</th>\n        <th>rain</th>\n    </tr>\n    <tr>\n        <td>1</td>\n        <td>2020-04-09</td>\n        <td>2020-04-09 10:00:00</td>\n        <td>-4.05</td>\n        <td>2.62</td>\n        <td>2.62</td>\n        <td>0</td>\n    </tr>\n    <tr>\n        <td>2</td>\n        <td>2020-04-09</td>\n        <td>2020-04-10 10:00:00</td>\n        <td>-5.62</td>\n        <td>-0.78</td>\n        <td>-2.32</td>\n        <td>0</td>\n    </tr>\n    <tr>\n        <td>3</td>\n        <td>2020-04-09</td>\n        <td>2020-04-11 10:00:00</td>\n        <td>-4.41</td>\n        <td>0.64</td>\n        <td>-0.43</td>\n        <td>0</td>\n    </tr>\n    <tr>\n        <td>4</td>\n        <td>2020-04-09</td>\n        <td>2020-04-12 10:00:00</td>\n        <td>-4.06</td>\n        <td>0.29</td>\n        <td>-0.98</td>\n        <td>0</td>\n    </tr>\n    <tr>\n        <td>5</td>\n        <td>2020-04-09</td>\n        <td>2020-04-13 10:00:00</td>\n        <td>-4.73</td>\n        <td>-0.92</td>\n        <td>-0.92</td>\n        <td>0</td>\n    </tr>\n    <tr>\n        <td>6</td>\n        <td>2020-04-09</td>\n        <td>2020-04-14 10:00:00</td>\n        <td>-7.14</td>\n        <td>-1.27</td>\n        <td>-3.53</td>\n        <td>0</td>\n    </tr>\n    <tr>\n        <td>7</td>\n        <td>2020-04-09</td>\n        <td>2020-04-15 10:00:00</td>\n        <td>-1.86</td>\n        <td>2.73</td>\n        <td>2.21</td>\n        <td>0.92</td>\n    </tr>\n    <tr>\n        <td>8</td>\n        <td>2020-04-09</td>\n        <td>2020-04-16 10:00:00</td>\n        <td>-3.35</td>\n        <td>4.45</td>\n        <td>2.73</td>\n        <td>0.3</td>\n    </tr>\n    <tr>\n        <td>9</td>\n        <td>2020-04-10</td>\n        <td>2020-04-10 10:00:00</td>\n        <td>-3.29</td>\n        <td>0.09</td>\n        <td>-0.74</td>\n        <td>0</td>\n    </tr>\n    <tr>\n        <td>10</td>\n        <td>2020-04-10</td>\n        <td>2020-04-11 10:00:00</td>\n        <td>-4.58</td>\n        <td>0.76</td>\n        <td>-0.16</td>\n        <td>0</td>\n    </tr>\n    <tr>\n        <td>11</td>\n        <td>2020-04-10</td>\n        <td>2020-04-12 10:00:00</td>\n        <td>-2.9</td>\n        <td>1.56</td>\n        <td>1.45</td>\n        <td>2.71</td>\n    </tr>\n    <tr>\n        <td>12</td>\n        <td>2020-04-10</td>\n        <td>2020-04-13 10:00:00</td>\n        <td>-3.06</td>\n        <td>-0.3</td>\n        <td>-0.56</td>\n        <td>0</td>\n    </tr>\n    <tr>\n        <td>13</td>\n        <td>2020-04-10</td>\n        <td>2020-04-14 10:00:00</td>\n        <td>-3.72</td>\n        <td>-0.44</td>\n        <td>-1.32</td>\n        <td>0</td>\n    </tr>\n    <tr>\n        <td>14</td>\n        <td>2020-04-10</td>\n        <td>2020-04-15 10:00:00</td>\n        <td>-3.69</td>\n        <td>1.88</td>\n        <td>1.47</td>\n        <td>0</td>\n    </tr>\n    <tr>\n        <td>15</td>\n        <td>2020-04-10</td>\n        <td>2020-04-16 10:00:00</td>\n        <td>-2.33</td>\n        <td>4.8</td>\n        <td>4.02</td>\n        <td>0</td>\n    </tr>\n    <tr>\n        <td>16</td>\n        <td>2020-04-10</td>\n        <td>2020-04-17 10:00:00</td>\n        <td>-0.23</td>\n        <td>4.82</td>\n        <td>3.76</td>\n        <td>0</td>\n    </tr>\n    <tr>\n        <td>17</td>\n        <td>2020-04-11</td>\n        <td>2020-04-11 10:00:00</td>\n        <td>-3.98</td>\n        <td>1.31</td>\n        <td>1.31</td>\n        <td>0</td>\n    </tr>\n    <tr>\n        <td>18</td>\n        <td>2020-04-11</td>\n        <td>2020-04-12 10:00:00</td>\n        <td>-3.29</td>\n        <td>2.24</td>\n        <td>1.43</td>\n        <td>1.72</td>\n    </tr>\n    <tr>\n        <td>19</td>\n        <td>2020-04-11</td>\n        <td>2020-04-13 10:00:00</td>\n        <td>-2.15</td>\n        <td>1.61</td>\n        <td>0.44</td>\n        <td>0</td>\n    </tr>\n    <tr>\n        <td>20</td>\n        <td>2020-04-11</td>\n        <td>2020-04-14 10:00:00</td>\n        <td>-2.62</td>\n        <td>1.94</td>\n        <td>1.71</td>\n        <td>0</td>\n    </tr>\n    <tr>\n        <td>21</td>\n        <td>2020-04-11</td>\n        <td>2020-04-15 10:00:00</td>\n        <td>-1.22</td>\n        <td>1.9</td>\n        <td>0.82</td>\n        <td>0</td>\n    </tr>\n    <tr>\n        <td>22</td>\n        <td>2020-04-11</td>\n        <td>2020-04-16 10:00:00</td>\n        <td>-1.68</td>\n        <td>5.28</td>\n        <td>3.59</td>\n        <td>0</td>\n    </tr>\n    <tr>\n        <td>23</td>\n        <td>2020-04-11</td>\n        <td>2020-04-17 10:00:00</td>\n        <td>1.45</td>\n        <td>5.35</td>\n        <td>4.21</td>\n        <td>2.06</td>\n    </tr>\n    <tr>\n        <td>24</td>\n        <td>2020-04-11</td>\n        <td>2020-04-18 10:00:00</td>\n        <td>0.65</td>\n        <td>8.56</td>\n        <td>6.97</td>\n        <td>0.29</td>\n    </tr>\n    <tr>\n        <td>25</td>\n        <td>2020-04-12</td>\n        <td>2020-04-12 10:00:00</td>\n        <td>0</td>\n        <td>3.73</td>\n        <td>0</td>\n        <td>6.64</td>\n    </tr>\n    <tr>\n        <td>26</td>\n        <td>2020-04-12</td>\n        <td>2020-04-13 10:00:00</td>\n        <td>-1.77</td>\n        <td>2.22</td>\n        <td>1.09</td>\n        <td>0</td>\n    </tr>\n    <tr>\n        <td>27</td>\n        <td>2020-04-12</td>\n        <td>2020-04-14 10:00:00</td>\n        <td>-2.31</td>\n        <td>2.71</td>\n        <td>1.8</td>\n        <td>0</td>\n    </tr>\n    <tr>\n        <td>28</td>\n        <td>2020-04-12</td>\n        <td>2020-04-15 10:00:00</td>\n        <td>-1.93</td>\n        <td>4</td>\n        <td>3.17</td>\n        <td>0</td>\n    </tr>\n    <tr>\n        <td>29</td>\n        <td>2020-04-12</td>\n        <td>2020-04-16 10:00:00</td>\n        <td>-1.76</td>\n        <td>3.55</td>\n        <td>3.55</td>\n        <td>0</td>\n    </tr>\n    <tr>\n        <td>30</td>\n        <td>2020-04-12</td>\n        <td>2020-04-17 10:00:00</td>\n        <td>-2.24</td>\n        <td>1.24</td>\n        <td>1.24</td>\n        <td>0</td>\n    </tr>\n    <tr>\n        <td>31</td>\n        <td>2020-04-12</td>\n        <td>2020-04-18 10:00:00</td>\n        <td>-0.36</td>\n        <td>3.61</td>\n        <td>2.25</td>\n        <td>0</td>\n    </tr>\n    <tr>\n        <td>32</td>\n        <td>2020-04-12</td>\n        <td>2020-04-19 10:00:00</td>\n        <td>0.63</td>\n        <td>3.34</td>\n        <td>2.97</td>\n        <td>0</td>\n    </tr>\n    <tr>\n        <td>33</td>\n        <td>2020-04-13</td>\n        <td>2020-04-13 10:00:00</td>\n        <td>-1.76</td>\n        <td>1.98</td>\n        <td>0.6</td>\n        <td>0</td>\n    </tr>\n    <tr>\n        <td>34</td>\n        <td>2020-04-13</td>\n        <td>2020-04-14 10:00:00</td>\n        <td>-2.53</td>\n        <td>2.42</td>\n        <td>1</td>\n        <td>0</td>\n    </tr>\n    <tr>\n        <td>35</td>\n        <td>2020-04-13</td>\n        <td>2020-04-15 10:00:00</td>\n        <td>-1.64</td>\n        <td>3.53</td>\n        <td>2.58</td>\n        <td>0</td>\n    </tr>\n    <tr>\n        <td>36</td>\n        <td>2020-04-13</td>\n        <td>2020-04-16 10:00:00</td>\n        <td>-0.32</td>\n        <td>2.42</td>\n        <td>2.28</td>\n        <td>0.22</td>\n    </tr>\n    <tr>\n        <td>37</td>\n        <td>2020-04-13</td>\n        <td>2020-04-17 10:00:00</td>\n        <td>0.52</td>\n        <td>3.68</td>\n        <td>3.47</td>\n        <td>2.98</td>\n    </tr>\n    <tr>\n        <td>38</td>\n        <td>2020-04-13</td>\n        <td>2020-04-18 10:00:00</td>\n        <td>0.33</td>\n        <td>4.93</td>\n        <td>3.4</td>\n        <td>0</td>\n    </tr>\n    <tr>\n        <td>39</td>\n        <td>2020-04-13</td>\n        <td>2020-04-19 10:00:00</td>\n        <td>-0.01</td>\n        <td>3.44</td>\n        <td>2.73</td>\n        <td>0</td>\n    </tr>\n    <tr>\n        <td>40</td>\n        <td>2020-04-13</td>\n        <td>2020-04-20 10:00:00</td>\n        <td>-1.25</td>\n        <td>5.2</td>\n        <td>2.31</td>\n        <td>0</td>\n    </tr>\n    <tr>\n        <td>41</td>\n        <td>2020-04-14</td>\n        <td>2020-04-14 10:00:00</td>\n        <td>-4</td>\n        <td>3.13</td>\n        <td>2.03</td>\n        <td>0</td>\n    </tr>\n    <tr>\n        <td>42</td>\n        <td>2020-04-14</td>\n        <td>2020-04-15 10:00:00</td>\n        <td>-2.28</td>\n        <td>3.68</td>\n        <td>3.02</td>\n        <td>0</td>\n    </tr>\n    <tr>\n        <td>43</td>\n        <td>2020-04-14</td>\n        <td>2020-04-16 10:00:00</td>\n        <td>-1.84</td>\n        <td>3.62</td>\n        <td>2.86</td>\n        <td>0</td>\n    </tr>\n    <tr>\n        <td>44</td>\n        <td>2020-04-14</td>\n        <td>2020-04-17 10:00:00</td>\n        <td>-1.19</td>\n        <td>1.01</td>\n        <td>0.46</td>\n        <td>0</td>\n    </tr>\n    <tr>\n        <td>45</td>\n        <td>2020-04-14</td>\n        <td>2020-04-18 10:00:00</td>\n        <td>-0.31</td>\n        <td>2</td>\n        <td>1.12</td>\n        <td>0</td>\n    </tr>\n    <tr>\n        <td>46</td>\n        <td>2020-04-14</td>\n        <td>2020-04-19 10:00:00</td>\n        <td>-2.36</td>\n        <td>2.06</td>\n        <td>0.89</td>\n        <td>0</td>\n    </tr>\n    <tr>\n        <td>47</td>\n        <td>2020-04-14</td>\n        <td>2020-04-20 10:00:00</td>\n        <td>-1.3</td>\n        <td>4.64</td>\n        <td>3.22</td>\n        <td>0</td>\n    </tr>\n    <tr>\n        <td>48</td>\n        <td>2020-04-14</td>\n        <td>2020-04-21 10:00:00</td>\n        <td>-1.73</td>\n        <td>2.91</td>\n        <td>2.74</td>\n        <td>0</td>\n    </tr>\n    <tr>\n        <td>49</td>\n        <td>2020-04-15</td>\n        <td>2020-04-15 10:00:00</td>\n        <td>-2</td>\n        <td>2.99</td>\n        <td>1.48</td>\n        <td>0</td>\n    </tr>\n    <tr>\n        <td>50</td>\n        <td>2020-04-15</td>\n        <td>2020-04-16 10:00:00</td>\n        <td>-2.48</td>\n        <td>3.5</td>\n        <td>2.67</td>\n        <td>0</td>\n    </tr>\n    <tr>\n        <td>51</td>\n        <td>2020-04-15</td>\n        <td>2020-04-17 10:00:00</td>\n        <td>-0.66</td>\n        <td>1.57</td>\n        <td>1.23</td>\n        <td>0</td>\n    </tr>\n    <tr>\n        <td>52</td>\n        <td>2020-04-15</td>\n        <td>2020-04-18 10:00:00</td>\n        <td>-0.63</td>\n        <td>2.3</td>\n        <td>0.6</td>\n        <td>0</td>\n    </tr>\n    <tr>\n        <td>53</td>\n        <td>2020-04-15</td>\n        <td>2020-04-19 10:00:00</td>\n        <td>-1.25</td>\n        <td>1.94</td>\n        <td>1.14</td>\n        <td>0</td>\n    </tr>\n    <tr>\n        <td>54</td>\n        <td>2020-04-15</td>\n        <td>2020-04-20 10:00:00</td>\n        <td>-0.9</td>\n        <td>3.92</td>\n        <td>2.14</td>\n        <td>0</td>\n    </tr>\n    <tr>\n        <td>55</td>\n        <td>2020-04-15</td>\n        <td>2020-04-21 10:00:00</td>\n        <td>-0.87</td>\n        <td>5.38</td>\n        <td>3.6</td>\n        <td>0</td>\n    </tr>\n    <tr>\n        <td>56</td>\n        <td>2020-04-15</td>\n        <td>2020-04-22 10:00:00</td>\n        <td>0.81</td>\n        <td>0.81</td>\n        <td>0.81</td>\n        <td>0</td>\n    </tr>\n    <tr>\n        <td>57</td>\n        <td>2020-04-16</td>\n        <td>2020-04-16 10:00:00</td>\n        <td>-0.37</td>\n        <td>1.23</td>\n        <td>0</td>\n        <td>0</td>\n    </tr>\n    <tr>\n        <td>58</td>\n        <td>2020-04-16</td>\n        <td>2020-04-17 10:00:00</td>\n        <td>-1.52</td>\n        <td>1.22</td>\n        <td>0.62</td>\n        <td>0</td>\n    </tr>\n    <tr>\n        <td>59</td>\n        <td>2020-04-16</td>\n        <td>2020-04-18 10:00:00</td>\n        <td>-0.53</td>\n        <td>2.39</td>\n        <td>1.77</td>\n        <td>0</td>\n    </tr>\n    <tr>\n        <td>60</td>\n        <td>2020-04-16</td>\n        <td>2020-04-19 10:00:00</td>\n        <td>-1.87</td>\n        <td>3.27</td>\n        <td>2.25</td>\n        <td>0</td>\n    </tr>\n    <tr>\n        <td>61</td>\n        <td>2020-04-16</td>\n        <td>2020-04-20 10:00:00</td>\n        <td>1.24</td>\n        <td>6.03</td>\n        <td>4.36</td>\n        <td>0</td>\n    </tr>\n    <tr>\n        <td>62</td>\n        <td>2020-04-16</td>\n        <td>2020-04-21 10:00:00</td>\n        <td>1.33</td>\n        <td>8.73</td>\n        <td>7.13</td>\n        <td>0</td>\n    </tr>\n    <tr>\n        <td>63</td>\n        <td>2020-04-16</td>\n        <td>2020-04-22 10:00:00</td>\n        <td>2.76</td>\n        <td>7.71</td>\n        <td>7.41</td>\n        <td>0</td>\n    </tr>\n    <tr>\n        <td>64</td>\n        <td>2020-04-16</td>\n        <td>2020-04-23 10:00:00</td>\n        <td>1.6</td>\n        <td>7.29</td>\n        <td>6.73</td>\n        <td>0</td>\n    </tr>\n</table>"
     },
     "metadata": {},
     "execution_count": 5
    }
   ],
   "source": [
    "%%sql\n",
    "select * from WeatherPrediction\n",
    ""
   ]
  },
  {
   "cell_type": "code",
   "execution_count": null,
   "metadata": {},
   "outputs": [],
   "source": []
  }
 ]
}